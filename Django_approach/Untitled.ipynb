{
 "cells": [
  {
   "cell_type": "code",
   "execution_count": 17,
   "metadata": {},
   "outputs": [
    {
     "name": "stderr",
     "output_type": "stream",
     "text": [
      "[nltk_data] Downloading package punkt to\n",
      "[nltk_data]     C:\\Users\\amanm\\AppData\\Roaming\\nltk_data...\n",
      "[nltk_data]   Package punkt is already up-to-date!\n"
     ]
    }
   ],
   "source": [
    "import nltk\n",
    "nltk.download('punkt')\n",
    "from nltk.tokenize import word_tokenize\n",
    "import numpy as np"
   ]
  },
  {
   "cell_type": "code",
   "execution_count": 18,
   "metadata": {},
   "outputs": [],
   "source": [
    "sentences = [\"Since 2008, Messi has been in a relationship with Antonella Roccuzzo, a fellow native of Rosario.\",\n",
    "             \" He has known Roccuzzo since he was five years old, as she is the cousin of his best friend since childhood\",\n",
    "             \" Lucas Scaglia, who is also a football player. After keeping their relationship private for a year,\",\n",
    "             \"Messi first confirmed their romance in an interview in January 2009, before going public a month later during a carnival in Sitges after the Barcelona–Espanyol derby\"]"
   ]
  },
  {
   "cell_type": "code",
   "execution_count": 19,
   "metadata": {},
   "outputs": [
    {
     "data": {
      "text/plain": [
       "[['since',\n",
       "  '2008',\n",
       "  ',',\n",
       "  'messi',\n",
       "  'has',\n",
       "  'been',\n",
       "  'in',\n",
       "  'a',\n",
       "  'relationship',\n",
       "  'with',\n",
       "  'antonella',\n",
       "  'roccuzzo',\n",
       "  ',',\n",
       "  'a',\n",
       "  'fellow',\n",
       "  'native',\n",
       "  'of',\n",
       "  'rosario',\n",
       "  '.'],\n",
       " ['he',\n",
       "  'has',\n",
       "  'known',\n",
       "  'roccuzzo',\n",
       "  'since',\n",
       "  'he',\n",
       "  'was',\n",
       "  'five',\n",
       "  'years',\n",
       "  'old',\n",
       "  ',',\n",
       "  'as',\n",
       "  'she',\n",
       "  'is',\n",
       "  'the',\n",
       "  'cousin',\n",
       "  'of',\n",
       "  'his',\n",
       "  'best',\n",
       "  'friend',\n",
       "  'since',\n",
       "  'childhood'],\n",
       " ['lucas',\n",
       "  'scaglia',\n",
       "  ',',\n",
       "  'who',\n",
       "  'is',\n",
       "  'also',\n",
       "  'a',\n",
       "  'football',\n",
       "  'player',\n",
       "  '.',\n",
       "  'after',\n",
       "  'keeping',\n",
       "  'their',\n",
       "  'relationship',\n",
       "  'private',\n",
       "  'for',\n",
       "  'a',\n",
       "  'year',\n",
       "  ','],\n",
       " ['messi',\n",
       "  'first',\n",
       "  'confirmed',\n",
       "  'their',\n",
       "  'romance',\n",
       "  'in',\n",
       "  'an',\n",
       "  'interview',\n",
       "  'in',\n",
       "  'january',\n",
       "  '2009',\n",
       "  ',',\n",
       "  'before',\n",
       "  'going',\n",
       "  'public',\n",
       "  'a',\n",
       "  'month',\n",
       "  'later',\n",
       "  'during',\n",
       "  'a',\n",
       "  'carnival',\n",
       "  'in',\n",
       "  'sitges',\n",
       "  'after',\n",
       "  'the',\n",
       "  'barcelona–espanyol',\n",
       "  'derby']]"
      ]
     },
     "execution_count": 19,
     "metadata": {},
     "output_type": "execute_result"
    }
   ],
   "source": [
    "tokenized_sent = []\n",
    "for s in sentences:\n",
    "    tokenized_sent.append(word_tokenize(s.lower()))\n",
    "tokenized_sent"
   ]
  },
  {
   "cell_type": "code",
   "execution_count": 20,
   "metadata": {},
   "outputs": [],
   "source": [
    "def cosine(u, v):\n",
    "    return np.dot(u, v) / (np.linalg.norm(u) * np.linalg.norm(v))"
   ]
  },
  {
   "cell_type": "code",
   "execution_count": 21,
   "metadata": {},
   "outputs": [],
   "source": [
    "import tensorflow as tf\n",
    "import tensorflow_hub as hub\n",
    "import numpy as np"
   ]
  },
  {
   "cell_type": "code",
   "execution_count": 22,
   "metadata": {},
   "outputs": [
    {
     "name": "stdout",
     "output_type": "stream",
     "text": [
      "WARNING:tensorflow:5 out of the last 20 calls to <function recreate_function.<locals>.restored_function_body at 0x00000174A4AFA168> triggered tf.function retracing. Tracing is expensive and the excessive number of tracings could be due to (1) creating @tf.function repeatedly in a loop, (2) passing tensors with different shapes, (3) passing Python objects instead of tensors. For (1), please define your @tf.function outside of the loop. For (2), @tf.function has experimental_relax_shapes=True option that relaxes argument shapes that can avoid unnecessary retracing. For (3), please refer to https://www.tensorflow.org/tutorials/customization/performance#python_or_tensor_args and https://www.tensorflow.org/api_docs/python/tf/function for  more details.\n"
     ]
    },
    {
     "name": "stderr",
     "output_type": "stream",
     "text": [
      "WARNING:tensorflow:5 out of the last 20 calls to <function recreate_function.<locals>.restored_function_body at 0x00000174A4AFA168> triggered tf.function retracing. Tracing is expensive and the excessive number of tracings could be due to (1) creating @tf.function repeatedly in a loop, (2) passing tensors with different shapes, (3) passing Python objects instead of tensors. For (1), please define your @tf.function outside of the loop. For (2), @tf.function has experimental_relax_shapes=True option that relaxes argument shapes that can avoid unnecessary retracing. For (3), please refer to https://www.tensorflow.org/tutorials/customization/performance#python_or_tensor_args and https://www.tensorflow.org/api_docs/python/tf/function for  more details.\n"
     ]
    },
    {
     "name": "stdout",
     "output_type": "stream",
     "text": [
      "module https://tfhub.dev/google/universal-sentence-encoder/4 loaded\n"
     ]
    }
   ],
   "source": [
    "module_url = \"https://tfhub.dev/google/universal-sentence-encoder/4\" \n",
    "model = hub.load(module_url)\n",
    "\n",
    "print (\"module %s loaded\" % module_url)"
   ]
  },
  {
   "cell_type": "code",
   "execution_count": 23,
   "metadata": {},
   "outputs": [
    {
     "name": "stdout",
     "output_type": "stream",
     "text": [
      "WARNING:tensorflow:6 out of the last 21 calls to <function recreate_function.<locals>.restored_function_body at 0x00000174690CBA68> triggered tf.function retracing. Tracing is expensive and the excessive number of tracings could be due to (1) creating @tf.function repeatedly in a loop, (2) passing tensors with different shapes, (3) passing Python objects instead of tensors. For (1), please define your @tf.function outside of the loop. For (2), @tf.function has experimental_relax_shapes=True option that relaxes argument shapes that can avoid unnecessary retracing. For (3), please refer to https://www.tensorflow.org/tutorials/customization/performance#python_or_tensor_args and https://www.tensorflow.org/api_docs/python/tf/function for  more details.\n"
     ]
    },
    {
     "name": "stderr",
     "output_type": "stream",
     "text": [
      "WARNING:tensorflow:6 out of the last 21 calls to <function recreate_function.<locals>.restored_function_body at 0x00000174690CBA68> triggered tf.function retracing. Tracing is expensive and the excessive number of tracings could be due to (1) creating @tf.function repeatedly in a loop, (2) passing tensors with different shapes, (3) passing Python objects instead of tensors. For (1), please define your @tf.function outside of the loop. For (2), @tf.function has experimental_relax_shapes=True option that relaxes argument shapes that can avoid unnecessary retracing. For (3), please refer to https://www.tensorflow.org/tutorials/customization/performance#python_or_tensor_args and https://www.tensorflow.org/api_docs/python/tf/function for  more details.\n"
     ]
    }
   ],
   "source": [
    "sentence_embeddings = model(sentences)\n",
    "query = \"wife of messi\"\n",
    "query_vec = model([query])[0]"
   ]
  },
  {
   "cell_type": "code",
   "execution_count": 24,
   "metadata": {},
   "outputs": [
    {
     "ename": "SyntaxError",
     "evalue": "invalid syntax (<ipython-input-24-e5c9403477cf>, line 1)",
     "output_type": "error",
     "traceback": [
      "\u001b[1;36m  File \u001b[1;32m\"<ipython-input-24-e5c9403477cf>\"\u001b[1;36m, line \u001b[1;32m1\u001b[0m\n\u001b[1;33m    model.\u001b[0m\n\u001b[1;37m          ^\u001b[0m\n\u001b[1;31mSyntaxError\u001b[0m\u001b[1;31m:\u001b[0m invalid syntax\n"
     ]
    }
   ],
   "source": [
    "model."
   ]
  },
  {
   "cell_type": "code",
   "execution_count": 25,
   "metadata": {},
   "outputs": [
    {
     "name": "stdout",
     "output_type": "stream",
     "text": [
      "Sentence =  Since 2008, Messi has been in a relationship with Antonella Roccuzzo, a fellow native of Rosario. ; similarity =  0.48161697\n",
      "Sentence =   He has known Roccuzzo since he was five years old, as she is the cousin of his best friend since childhood ; similarity =  0.114942774\n",
      "Sentence =   Lucas Scaglia, who is also a football player. After keeping their relationship private for a year, ; similarity =  0.27507877\n",
      "Sentence =  Messi first confirmed their romance in an interview in January 2009, before going public a month later during a carnival in Sitges after the Barcelona–Espanyol derby ; similarity =  0.30516168\n"
     ]
    }
   ],
   "source": [
    "for sent in sentences:\n",
    "  sim = cosine(query_vec, model([sent])[0])\n",
    "  print(\"Sentence = \", sent, \"; similarity = \", sim)"
   ]
  },
  {
   "cell_type": "code",
   "execution_count": null,
   "metadata": {},
   "outputs": [],
   "source": [
    "https://tfhub.dev/google/universal-sentence-encoder/4"
   ]
  }
 ],
 "metadata": {
  "kernelspec": {
   "display_name": "Python 3",
   "language": "python",
   "name": "python3"
  },
  "language_info": {
   "codemirror_mode": {
    "name": "ipython",
    "version": 3
   },
   "file_extension": ".py",
   "mimetype": "text/x-python",
   "name": "python",
   "nbconvert_exporter": "python",
   "pygments_lexer": "ipython3",
   "version": "3.7.5"
  }
 },
 "nbformat": 4,
 "nbformat_minor": 4
}
